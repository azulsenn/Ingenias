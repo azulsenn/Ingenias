{
  "nbformat": 4,
  "nbformat_minor": 0,
  "metadata": {
    "kernelspec": {
      "display_name": "Python 3",
      "language": "python",
      "name": "python3"
    },
    "language_info": {
      "codemirror_mode": {
        "name": "ipython",
        "version": 3
      },
      "file_extension": ".py",
      "mimetype": "text/x-python",
      "name": "python",
      "nbconvert_exporter": "python",
      "pygments_lexer": "ipython3",
      "version": "3.7.3"
    },
    "colab": {
      "provenance": []
    }
  },
  "cells": [
    {
      "cell_type": "markdown",
      "metadata": {
        "id": "Gp2WddtV9IwG"
      },
      "source": [
        "# Programa Ingenias+ Data Science"
      ]
    },
    {
      "cell_type": "markdown",
      "metadata": {
        "id": "H4M1yVbf9IwH"
      },
      "source": [
        "Como dijimos en clases anteriores, Python tiene implementadas muchas librerias para poder trabajar con datos. En la clase de hoy trabajaremos con una de ellas: `Numpy`."
      ]
    },
    {
      "cell_type": "markdown",
      "metadata": {
        "id": "GdTT8WeL9IwI"
      },
      "source": [
        "Antes de comenzar, vamos a hablar un poco de esta libreria o modulo.\n",
        "\n",
        "**Numpy** es una librería optimizada para realizar cálculos numéricos con vectores y matrices. A diferencia de otros lenguajes de programación, Python no posee en su estructura central la figura de matrices. Eso quiere decir que para poder trabajar con esta estructura de datos deberiamos trabajar con listas de listas. NumPy introduce el concepto de arrays o matrices."
      ]
    },
    {
      "cell_type": "markdown",
      "metadata": {
        "id": "qWkq3EHK9IwK"
      },
      "source": [
        "Al ser de código abierto, `numpy` posee una documentación muy amplia que es **SIEMPRE RECOMENDABLE** consultar."
      ]
    },
    {
      "cell_type": "markdown",
      "metadata": {
        "id": "nxe3KLUO9IwL"
      },
      "source": [
        "- [Documentacion NumPy](https://devdocs.io/numpy/)"
      ]
    },
    {
      "cell_type": "markdown",
      "metadata": {
        "id": "l1Ay3nSs9IwN"
      },
      "source": [
        "## Clase 4: Introduccion a NumPy"
      ]
    },
    {
      "cell_type": "markdown",
      "metadata": {
        "id": "X03mviQS9IyL"
      },
      "source": [
        "# Ejercicios\n",
        "\n",
        "1. Crear un arreglo de ceros de longitud 12\n",
        "2. Crear un arreglo de longitud 10 con ceros en todas sus posiciones y un 10 en la posición número 5\n",
        "3. Crear un arreglo que tenga los números del 10 al 49\n",
        "4. Crear una arreglo 2d de shape (3, 3) que tenga los números del 0 al 8\n",
        "5. Crear un arreglo de números aleatorios de longitud 100 y obtener su media y varianza\n",
        "6. Calcular la media de un arreglo usando np.sum\n",
        "7. Calcular la varianza de un arreglo usando np.sum y np.mean\n",
        "8. Crear un array de números aleatorios usando np.random.randn.\n"
      ]
    },
    {
      "cell_type": "code",
      "source": [
        "# Importamos la biblioteca Numpy\n",
        "import numpy as np"
      ],
      "metadata": {
        "id": "pi3q1M-qqu3n"
      },
      "execution_count": null,
      "outputs": []
    },
    {
      "cell_type": "code",
      "metadata": {
        "id": "G0NMKT609IyM",
        "colab": {
          "base_uri": "https://localhost:8080/"
        },
        "outputId": "410c8d58-a805-4842-d9fb-f1daf3e15e5a"
      },
      "source": [
        "# Ejericio 1\n",
        "# Crear un arreglo de ceros de longitud 12\n",
        "array_1 = np.zeros(12)\n",
        "print(array_1)"
      ],
      "execution_count": null,
      "outputs": [
        {
          "output_type": "stream",
          "name": "stdout",
          "text": [
            "[0. 0. 0. 0. 0. 0. 0. 0. 0. 0. 0. 0.]\n"
          ]
        }
      ]
    },
    {
      "cell_type": "code",
      "source": [
        "# Ejercicio 2\n",
        "# Crea un arrelgo de longitud 10 con ceros en todas las posiciones y un 10 en la posicion numero 5\n",
        "array_2 = np.zeros(10)\n",
        "array_2[4] = 10\n",
        "print(array_2)\n"
      ],
      "metadata": {
        "colab": {
          "base_uri": "https://localhost:8080/"
        },
        "id": "mFmDPD_Nx-6N",
        "outputId": "0321e7c5-175f-46a0-d126-c816d053212c"
      },
      "execution_count": null,
      "outputs": [
        {
          "output_type": "stream",
          "name": "stdout",
          "text": [
            "[ 0.  0.  0.  0. 10.  0.  0.  0.  0.  0.]\n"
          ]
        }
      ]
    },
    {
      "cell_type": "code",
      "source": [
        "# Ejercicio 3\n",
        "# Crear un arreglo que tenga los números del 10 al 49\n",
        "\n",
        "array_3 = np.arange(10,50)\n",
        "print(array_3)"
      ],
      "metadata": {
        "colab": {
          "base_uri": "https://localhost:8080/"
        },
        "id": "PfpO0cFfyT4D",
        "outputId": "9dba041d-10ae-49ec-a1e6-cfa1413e305c"
      },
      "execution_count": null,
      "outputs": [
        {
          "output_type": "stream",
          "name": "stdout",
          "text": [
            "[10 11 12 13 14 15 16 17 18 19 20 21 22 23 24 25 26 27 28 29 30 31 32 33\n",
            " 34 35 36 37 38 39 40 41 42 43 44 45 46 47 48 49]\n"
          ]
        }
      ]
    },
    {
      "cell_type": "code",
      "source": [
        "# Ejercicio 4\n",
        "# Crear una arreglo 2d de shape (3, 3) que tenga los números del 0 al 8\n",
        "array_4 = np.arange(9).reshape(3,3)\n",
        "print(array_4)"
      ],
      "metadata": {
        "colab": {
          "base_uri": "https://localhost:8080/"
        },
        "id": "T8mOlDa-y9sB",
        "outputId": "172e1e9e-292b-47de-ec9e-436da196971f"
      },
      "execution_count": null,
      "outputs": [
        {
          "output_type": "stream",
          "name": "stdout",
          "text": [
            "[[0 1 2]\n",
            " [3 4 5]\n",
            " [6 7 8]]\n"
          ]
        }
      ]
    },
    {
      "cell_type": "code",
      "source": [
        "# Ejercicio 5\n",
        "# Crear un arreglo de números aleatorios de longitud 100 y obtener su media y varianza.\n",
        "array_5 = np.random.randn(100)\n",
        "media_array_5 = np.mean(array_5) #media\n",
        "var_array_5 = np.var(array_5) #varianza\n",
        "print('la media del arreglo es', media_array_5, 'y la varianza', var_array_5)"
      ],
      "metadata": {
        "colab": {
          "base_uri": "https://localhost:8080/"
        },
        "id": "lEOknHst2CDk",
        "outputId": "560cdb67-4e58-4814-a773-b3c5067c1ff0"
      },
      "execution_count": null,
      "outputs": [
        {
          "output_type": "stream",
          "name": "stdout",
          "text": [
            "creacion de longuitud aleatorio de 100 \n",
            "la media del arreglo es -0.03814837027682873 y la varianza 1.0086167111534527\n"
          ]
        }
      ]
    },
    {
      "cell_type": "code",
      "source": [
        "# Ejericio 6\n",
        "# Calcular la media de un arreglo usando np.sum\n",
        "media = np.sum(array_5)/len(array_5)\n",
        "#en este caso utilizo el array anterior para calcularlo, pero vale para cualquier arreglo de cualquier\n",
        "#longitud\n",
        "print(media)\n"
      ],
      "metadata": {
        "colab": {
          "base_uri": "https://localhost:8080/"
        },
        "id": "WwM2Tckz2gnl",
        "outputId": "f9d1cfad-eeee-4629-cd85-c0f08d05585b"
      },
      "execution_count": null,
      "outputs": [
        {
          "output_type": "stream",
          "name": "stdout",
          "text": [
            "-0.03814837027682873\n"
          ]
        }
      ]
    },
    {
      "cell_type": "code",
      "source": [
        "# Ejercicio7\n",
        "# Calcular la varianza de un arreglo usando np.sum y np.mean\n",
        "varianza = np.sum((array_5-np.mean(array_5))**2)/len(array_5)\n",
        "print(varianza)\n"
      ],
      "metadata": {
        "colab": {
          "base_uri": "https://localhost:8080/"
        },
        "id": "OkvVVYCR3L5S",
        "outputId": "4015a0bc-12ef-4ce4-8231-604fcf191661"
      },
      "execution_count": null,
      "outputs": [
        {
          "output_type": "stream",
          "name": "stdout",
          "text": [
            "1.0086167111534527\n"
          ]
        }
      ]
    },
    {
      "cell_type": "code",
      "source": [
        "# Ejercicio 8\n",
        "# Crear un array de números aleatorios usando np.random.randn\n",
        "array_8 = np.random.randn(10)\n",
        "print(array_8)\n"
      ],
      "metadata": {
        "colab": {
          "base_uri": "https://localhost:8080/"
        },
        "id": "PcKPK3r03yX6",
        "outputId": "475e28d6-61fc-4e77-f50b-cb439f188dd6"
      },
      "execution_count": null,
      "outputs": [
        {
          "output_type": "stream",
          "name": "stdout",
          "text": [
            "[ 0.32687236  0.89546275  1.11039834  0.58703419  1.97151532 -0.18441855\n",
            " -0.66004564  0.62679253 -0.1556949   0.8859229 ]\n"
          ]
        }
      ]
    },
    {
      "cell_type": "code",
      "source": [],
      "metadata": {
        "id": "8VX7CbYmUD6M"
      },
      "execution_count": null,
      "outputs": []
    }
  ]
}