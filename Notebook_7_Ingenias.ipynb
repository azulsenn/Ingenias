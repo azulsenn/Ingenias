{
  "nbformat": 4,
  "nbformat_minor": 0,
  "metadata": {
    "colab": {
      "provenance": []
    },
    "language_info": {
      "codemirror_mode": {
        "name": "ipython",
        "version": 3
      },
      "file_extension": ".py",
      "mimetype": "text/x-python",
      "name": "python",
      "nbconvert_exporter": "python",
      "pygments_lexer": "ipython3",
      "version": "3.6.6"
    },
    "kernelspec": {
      "display_name": "Python 3",
      "language": "python",
      "name": "python3"
    }
  },
  "cells": [
    {
      "cell_type": "markdown",
      "metadata": {
        "id": "4CoLDDN0Scje"
      },
      "source": [
        "## Programa Ingenias+ Data Science"
      ]
    },
    {
      "cell_type": "markdown",
      "source": [
        "# Sección nueva"
      ],
      "metadata": {
        "id": "57kc_nckby-s"
      }
    },
    {
      "cell_type": "markdown",
      "metadata": {
        "id": "Rkizi-vlScjg"
      },
      "source": [
        "## Trabajando con Pandas"
      ]
    },
    {
      "cell_type": "markdown",
      "metadata": {
        "id": "VRd6Ow_aScjg"
      },
      "source": [
        "1) Importa las librerias requeridas: `Pandas` y `NumPy`.  \n",
        "\n",
        "Una buena practica a la hora de escribir codigo es de comentar siempre que estoy haciendo (usando `#`) en la linea anterior. Por mas obvio que parezca lo que voy a hacer, puede ser que tenga que compartir el documento con otras personas y no sepan que quise hacer en cada linea. O que yo mismo lea el codigo tiempo despues y no recuerde porque lo hice."
      ]
    },
    {
      "cell_type": "code",
      "metadata": {
        "id": "Anvt8yoSScji"
      },
      "source": [
        "import pandas as pd\n",
        "import numpy as np"
      ],
      "execution_count": 1,
      "outputs": []
    },
    {
      "cell_type": "markdown",
      "metadata": {
        "id": "5YWvHd--Scjl"
      },
      "source": [
        "2) Lee el archivo csv `life_expectancy_data` usando `pandas`. Guardalo en una variable llamada `expvida`."
      ]
    },
    {
      "cell_type": "code",
      "source": [],
      "metadata": {
        "id": "N_aRUk0Xb0Rv"
      },
      "execution_count": null,
      "outputs": []
    },
    {
      "cell_type": "code",
      "metadata": {
        "id": "oM1b7mmxScjm"
      },
      "source": [
        "# Leo los datos en un DataFrame y lo guardo en la variable expvida\n",
        "expvida = pd.read_csv('Life_Expectancy_Data.csv')"
      ],
      "execution_count": 2,
      "outputs": []
    },
    {
      "cell_type": "markdown",
      "metadata": {
        "id": "-a1OoVvIScjp"
      },
      "source": [
        "3) ¿Que tipo de estructura de datos contiene la variable `expvida`?"
      ]
    },
    {
      "cell_type": "code",
      "metadata": {
        "id": "7R6g46UGScjp",
        "colab": {
          "base_uri": "https://localhost:8080/",
          "height": 204
        },
        "outputId": "201d0246-5c4e-45b0-96b7-dfaab950844e"
      },
      "source": [
        "# Obtengo el tipo de estructura de datos\n",
        "type(expvida)\n"
      ],
      "execution_count": 3,
      "outputs": [
        {
          "output_type": "execute_result",
          "data": {
            "text/plain": [
              "pandas.core.frame.DataFrame"
            ],
            "text/html": [
              "<div style=\"max-width:800px; border: 1px solid var(--colab-border-color);\"><style>\n",
              "      pre.function-repr-contents {\n",
              "        overflow-x: auto;\n",
              "        padding: 8px 12px;\n",
              "        max-height: 500px;\n",
              "      }\n",
              "\n",
              "      pre.function-repr-contents.function-repr-contents-collapsed {\n",
              "        cursor: pointer;\n",
              "        max-height: 100px;\n",
              "      }\n",
              "    </style>\n",
              "    <pre style=\"white-space: initial; background:\n",
              "         var(--colab-secondary-surface-color); padding: 8px 12px;\n",
              "         border-bottom: 1px solid var(--colab-border-color);\"><b>pandas.core.frame.DataFrame</b><br/>def __init__(data=None, index: Axes | None=None, columns: Axes | None=None, dtype: Dtype | None=None, copy: bool | None=None) -&gt; None</pre><pre class=\"function-repr-contents function-repr-contents-collapsed\" style=\"\"><a class=\"filepath\" style=\"display:none\" href=\"#\">/usr/local/lib/python3.11/dist-packages/pandas/core/frame.py</a>Two-dimensional, size-mutable, potentially heterogeneous tabular data.\n",
              "\n",
              "Data structure also contains labeled axes (rows and columns).\n",
              "Arithmetic operations align on both row and column labels. Can be\n",
              "thought of as a dict-like container for Series objects. The primary\n",
              "pandas data structure.\n",
              "\n",
              "Parameters\n",
              "----------\n",
              "data : ndarray (structured or homogeneous), Iterable, dict, or DataFrame\n",
              "    Dict can contain Series, arrays, constants, dataclass or list-like objects. If\n",
              "    data is a dict, column order follows insertion-order. If a dict contains Series\n",
              "    which have an index defined, it is aligned by its index. This alignment also\n",
              "    occurs if data is a Series or a DataFrame itself. Alignment is done on\n",
              "    Series/DataFrame inputs.\n",
              "\n",
              "    If data is a list of dicts, column order follows insertion-order.\n",
              "\n",
              "index : Index or array-like\n",
              "    Index to use for resulting frame. Will default to RangeIndex if\n",
              "    no indexing information part of input data and no index provided.\n",
              "columns : Index or array-like\n",
              "    Column labels to use for resulting frame when data does not have them,\n",
              "    defaulting to RangeIndex(0, 1, 2, ..., n). If data contains column labels,\n",
              "    will perform column selection instead.\n",
              "dtype : dtype, default None\n",
              "    Data type to force. Only a single dtype is allowed. If None, infer.\n",
              "copy : bool or None, default None\n",
              "    Copy data from inputs.\n",
              "    For dict data, the default of None behaves like ``copy=True``.  For DataFrame\n",
              "    or 2d ndarray input, the default of None behaves like ``copy=False``.\n",
              "    If data is a dict containing one or more Series (possibly of different dtypes),\n",
              "    ``copy=False`` will ensure that these inputs are not copied.\n",
              "\n",
              "    .. versionchanged:: 1.3.0\n",
              "\n",
              "See Also\n",
              "--------\n",
              "DataFrame.from_records : Constructor from tuples, also record arrays.\n",
              "DataFrame.from_dict : From dicts of Series, arrays, or dicts.\n",
              "read_csv : Read a comma-separated values (csv) file into DataFrame.\n",
              "read_table : Read general delimited file into DataFrame.\n",
              "read_clipboard : Read text from clipboard into DataFrame.\n",
              "\n",
              "Notes\n",
              "-----\n",
              "Please reference the :ref:`User Guide &lt;basics.dataframe&gt;` for more information.\n",
              "\n",
              "Examples\n",
              "--------\n",
              "Constructing DataFrame from a dictionary.\n",
              "\n",
              "&gt;&gt;&gt; d = {&#x27;col1&#x27;: [1, 2], &#x27;col2&#x27;: [3, 4]}\n",
              "&gt;&gt;&gt; df = pd.DataFrame(data=d)\n",
              "&gt;&gt;&gt; df\n",
              "   col1  col2\n",
              "0     1     3\n",
              "1     2     4\n",
              "\n",
              "Notice that the inferred dtype is int64.\n",
              "\n",
              "&gt;&gt;&gt; df.dtypes\n",
              "col1    int64\n",
              "col2    int64\n",
              "dtype: object\n",
              "\n",
              "To enforce a single dtype:\n",
              "\n",
              "&gt;&gt;&gt; df = pd.DataFrame(data=d, dtype=np.int8)\n",
              "&gt;&gt;&gt; df.dtypes\n",
              "col1    int8\n",
              "col2    int8\n",
              "dtype: object\n",
              "\n",
              "Constructing DataFrame from a dictionary including Series:\n",
              "\n",
              "&gt;&gt;&gt; d = {&#x27;col1&#x27;: [0, 1, 2, 3], &#x27;col2&#x27;: pd.Series([2, 3], index=[2, 3])}\n",
              "&gt;&gt;&gt; pd.DataFrame(data=d, index=[0, 1, 2, 3])\n",
              "   col1  col2\n",
              "0     0   NaN\n",
              "1     1   NaN\n",
              "2     2   2.0\n",
              "3     3   3.0\n",
              "\n",
              "Constructing DataFrame from numpy ndarray:\n",
              "\n",
              "&gt;&gt;&gt; df2 = pd.DataFrame(np.array([[1, 2, 3], [4, 5, 6], [7, 8, 9]]),\n",
              "...                    columns=[&#x27;a&#x27;, &#x27;b&#x27;, &#x27;c&#x27;])\n",
              "&gt;&gt;&gt; df2\n",
              "   a  b  c\n",
              "0  1  2  3\n",
              "1  4  5  6\n",
              "2  7  8  9\n",
              "\n",
              "Constructing DataFrame from a numpy ndarray that has labeled columns:\n",
              "\n",
              "&gt;&gt;&gt; data = np.array([(1, 2, 3), (4, 5, 6), (7, 8, 9)],\n",
              "...                 dtype=[(&quot;a&quot;, &quot;i4&quot;), (&quot;b&quot;, &quot;i4&quot;), (&quot;c&quot;, &quot;i4&quot;)])\n",
              "&gt;&gt;&gt; df3 = pd.DataFrame(data, columns=[&#x27;c&#x27;, &#x27;a&#x27;])\n",
              "...\n",
              "&gt;&gt;&gt; df3\n",
              "   c  a\n",
              "0  3  1\n",
              "1  6  4\n",
              "2  9  7\n",
              "\n",
              "Constructing DataFrame from dataclass:\n",
              "\n",
              "&gt;&gt;&gt; from dataclasses import make_dataclass\n",
              "&gt;&gt;&gt; Point = make_dataclass(&quot;Point&quot;, [(&quot;x&quot;, int), (&quot;y&quot;, int)])\n",
              "&gt;&gt;&gt; pd.DataFrame([Point(0, 0), Point(0, 3), Point(2, 3)])\n",
              "   x  y\n",
              "0  0  0\n",
              "1  0  3\n",
              "2  2  3\n",
              "\n",
              "Constructing DataFrame from Series/DataFrame:\n",
              "\n",
              "&gt;&gt;&gt; ser = pd.Series([1, 2, 3], index=[&quot;a&quot;, &quot;b&quot;, &quot;c&quot;])\n",
              "&gt;&gt;&gt; df = pd.DataFrame(data=ser, index=[&quot;a&quot;, &quot;c&quot;])\n",
              "&gt;&gt;&gt; df\n",
              "   0\n",
              "a  1\n",
              "c  3\n",
              "\n",
              "&gt;&gt;&gt; df1 = pd.DataFrame([1, 2, 3], index=[&quot;a&quot;, &quot;b&quot;, &quot;c&quot;], columns=[&quot;x&quot;])\n",
              "&gt;&gt;&gt; df2 = pd.DataFrame(data=df1, index=[&quot;a&quot;, &quot;c&quot;])\n",
              "&gt;&gt;&gt; df2\n",
              "   x\n",
              "a  1\n",
              "c  3</pre>\n",
              "      <script>\n",
              "      if (google.colab.kernel.accessAllowed && google.colab.files && google.colab.files.view) {\n",
              "        for (const element of document.querySelectorAll('.filepath')) {\n",
              "          element.style.display = 'block'\n",
              "          element.onclick = (event) => {\n",
              "            event.preventDefault();\n",
              "            event.stopPropagation();\n",
              "            google.colab.files.view(element.textContent, 509);\n",
              "          };\n",
              "        }\n",
              "      }\n",
              "      for (const element of document.querySelectorAll('.function-repr-contents')) {\n",
              "        element.onclick = (event) => {\n",
              "          event.preventDefault();\n",
              "          event.stopPropagation();\n",
              "          element.classList.toggle('function-repr-contents-collapsed');\n",
              "        };\n",
              "      }\n",
              "      </script>\n",
              "      </div>"
            ]
          },
          "metadata": {},
          "execution_count": 3
        }
      ]
    },
    {
      "cell_type": "markdown",
      "metadata": {
        "id": "EBwmuoKKScjv"
      },
      "source": [
        "4) ¿Cuantas filas y columnas tiene `expvida`?"
      ]
    },
    {
      "cell_type": "code",
      "metadata": {
        "id": "1oKt4xZmScjw",
        "colab": {
          "base_uri": "https://localhost:8080/"
        },
        "outputId": "55fe5210-5c12-4b62-a2be-67041ae674d2"
      },
      "source": [
        "# Uso .shape para obtener cantidad de filas y columnas\n",
        "expvida.shape"
      ],
      "execution_count": 4,
      "outputs": [
        {
          "output_type": "execute_result",
          "data": {
            "text/plain": [
              "(2938, 22)"
            ]
          },
          "metadata": {},
          "execution_count": 4
        }
      ]
    },
    {
      "cell_type": "markdown",
      "metadata": {
        "id": "O-ICrkf6Scj0"
      },
      "source": [
        "**Numero de filas**:"
      ]
    },
    {
      "cell_type": "markdown",
      "metadata": {
        "id": "zXyS8xzFScj0"
      },
      "source": [
        "**Numero de columnas**:"
      ]
    },
    {
      "cell_type": "markdown",
      "metadata": {
        "id": "V3cNAjIIScj1"
      },
      "source": [
        "5) ¿Cual es el nombre de las columnas contenidas en `expvida`?"
      ]
    },
    {
      "cell_type": "code",
      "metadata": {
        "id": "Cr61t2ALScj2",
        "colab": {
          "base_uri": "https://localhost:8080/"
        },
        "outputId": "7c5177cb-d27d-4f43-a3e0-b887e17b18c4"
      },
      "source": [
        "# Obtengo el nombre de las columnas\n",
        "expvida.columns\n"
      ],
      "execution_count": 5,
      "outputs": [
        {
          "output_type": "execute_result",
          "data": {
            "text/plain": [
              "Index(['Country', 'Year', 'Status', 'Life expectancy ', 'Adult Mortality',\n",
              "       'infant deaths', 'Alcohol', 'percentage expenditure', 'Hepatitis B',\n",
              "       'Measles ', ' BMI ', 'under-five deaths ', 'Polio', 'Total expenditure',\n",
              "       'Diphtheria ', ' HIV/AIDS', 'GDP', 'Population',\n",
              "       ' thinness  1-19 years', ' thinness 5-9 years',\n",
              "       'Income composition of resources', 'Schooling'],\n",
              "      dtype='object')"
            ]
          },
          "metadata": {},
          "execution_count": 5
        }
      ]
    },
    {
      "cell_type": "markdown",
      "metadata": {
        "id": "xbXCaw0mScj5"
      },
      "source": [
        "6) Inspecciona las primeras 10 filas de `expvida`"
      ]
    },
    {
      "cell_type": "code",
      "metadata": {
        "id": "WSUs6-wmScj6"
      },
      "source": [
        "# Inspecciono las primeras filas\n",
        "expvida.head(10)\n"
      ],
      "execution_count": null,
      "outputs": []
    },
    {
      "cell_type": "markdown",
      "metadata": {
        "id": "99b7sMhZScj_"
      },
      "source": [
        "7) Y ahora las 10 ultimas."
      ]
    },
    {
      "cell_type": "code",
      "metadata": {
        "id": "yaMMoHc7Scj_"
      },
      "source": [
        "# Inspecciono las ultimas filas\n",
        "expvida.tail(10)"
      ],
      "execution_count": null,
      "outputs": []
    },
    {
      "cell_type": "markdown",
      "metadata": {
        "id": "thLRW3GjSckC"
      },
      "source": [
        "8) ¿Que tipos de datos contiene cada una de las columnas de `expvida`?"
      ]
    },
    {
      "cell_type": "code",
      "metadata": {
        "id": "AfAgFAJdSckD"
      },
      "source": [
        "# Tipo de datos en cada columna\n",
        "expvida.dtypes"
      ],
      "execution_count": null,
      "outputs": []
    },
    {
      "cell_type": "markdown",
      "metadata": {
        "id": "7Nsyhb7LSckG"
      },
      "source": [
        "9) ¿Hay valores faltantes en alguna de las columnas de `expvida`?"
      ]
    },
    {
      "cell_type": "code",
      "metadata": {
        "id": "DP_IgUWzSckI",
        "colab": {
          "base_uri": "https://localhost:8080/"
        },
        "outputId": "bbcc2c44-4e6b-4c6c-91e6-615355d18c9d"
      },
      "source": [
        "# Obtengo la cantidad de datos faltantes en cada columna\n",
        "faltantes=expvida.isnull().sum()\n",
        "print(faltantes)"
      ],
      "execution_count": 6,
      "outputs": [
        {
          "output_type": "stream",
          "name": "stdout",
          "text": [
            "Country                              0\n",
            "Year                                 0\n",
            "Status                               0\n",
            "Life expectancy                     10\n",
            "Adult Mortality                     10\n",
            "infant deaths                        0\n",
            "Alcohol                            194\n",
            "percentage expenditure               0\n",
            "Hepatitis B                        553\n",
            "Measles                              0\n",
            " BMI                                34\n",
            "under-five deaths                    0\n",
            "Polio                               19\n",
            "Total expenditure                  226\n",
            "Diphtheria                          19\n",
            " HIV/AIDS                            0\n",
            "GDP                                448\n",
            "Population                         652\n",
            " thinness  1-19 years               34\n",
            " thinness 5-9 years                 34\n",
            "Income composition of resources    167\n",
            "Schooling                          163\n",
            "dtype: int64\n"
          ]
        }
      ]
    },
    {
      "cell_type": "markdown",
      "metadata": {
        "id": "Q7-bL4tlSckL"
      },
      "source": [
        "10) Selecciona el maximo de datos faltantes. Calcula que porcentaje de los datos representan los datos faltantes."
      ]
    },
    {
      "cell_type": "code",
      "metadata": {
        "id": "gicdHYh0SckM",
        "colab": {
          "base_uri": "https://localhost:8080/"
        },
        "outputId": "9e66fa3f-ca84-4ccd-8bb2-a8b038377162"
      },
      "source": [
        "# Obtengo el maximo valor de datos faltantes y lo guardo en la variable masnan\n",
        "masnan = expvida.isnull().sum().max()\n",
        "\n",
        "print('El valor máximo de datos faltantes es', masnan)"
      ],
      "execution_count": 8,
      "outputs": [
        {
          "output_type": "stream",
          "name": "stdout",
          "text": [
            "El valor máximo de datos faltantes es 652\n"
          ]
        }
      ]
    },
    {
      "cell_type": "code",
      "metadata": {
        "id": "Y58Hh90pSckP"
      },
      "source": [],
      "execution_count": null,
      "outputs": []
    },
    {
      "cell_type": "code",
      "metadata": {
        "id": "RuRgzIFBSckT",
        "colab": {
          "base_uri": "https://localhost:8080/"
        },
        "outputId": "4ea7ecfe-ec5e-4d7c-ee79-3c5ca2ee67b5"
      },
      "source": [
        "# Obtengo la cantidad de filas total y divido el maximo valor de datos faltantes por este numero\n",
        "# luego lo multiplico por 100\n",
        "expvida_filas= len(expvida)\n",
        "\n",
        "faltantes_max= (masnan / expvida_filas) * 100\n",
        "\n",
        "print(faltantes_max)\n"
      ],
      "execution_count": 16,
      "outputs": [
        {
          "output_type": "stream",
          "name": "stdout",
          "text": [
            "22.19196732471069\n"
          ]
        }
      ]
    },
    {
      "cell_type": "code",
      "metadata": {
        "id": "1NIY9qQBSckX",
        "colab": {
          "base_uri": "https://localhost:8080/"
        },
        "outputId": "ea06a89f-d583-4544-867b-73b3d107907e"
      },
      "source": [
        "# Imprimo el maximo porcentaje de datos faltantes. Uso f-strings.\n",
        "print(f'El porcentaje máximo de filas nulas es {faltantes_max:.2f} %')\n"
      ],
      "execution_count": 12,
      "outputs": [
        {
          "output_type": "stream",
          "name": "stdout",
          "text": [
            "El porcentaje máximo de filas nulas es 22.19 %\n"
          ]
        }
      ]
    },
    {
      "cell_type": "markdown",
      "metadata": {
        "id": "r0ukORx9Sckg"
      },
      "source": [
        "- str.format()\n",
        "- Template Class\n",
        "- f-strings"
      ]
    },
    {
      "cell_type": "markdown",
      "metadata": {
        "id": "hUXqdma_Sckj"
      },
      "source": [
        "#### Ahora vamos a realizar algunos calculos y manipulaciones sobre las columnas."
      ]
    },
    {
      "cell_type": "markdown",
      "metadata": {
        "id": "eBzg8GYGSckk"
      },
      "source": [
        "Una función útil para este fin es: `.rename()`. Y podemos utilizarla de la siguiente manera: Si `df` es mi DataFrame y quiero renombrar la columna `columna` como `columna1`, y la columna `columna2` como `columna3`, utilizo la siguiente sintaxis:\n",
        "  \n",
        "`df.rename(columns={\"columna\": \"columna1\", \"columna2\": \"columna3\"}, inplace=True)`"
      ]
    },
    {
      "cell_type": "markdown",
      "metadata": {
        "id": "EYINiSHdSckl"
      },
      "source": [
        "11) Renombra la columna 'Life expectancy ' como 'life_expectancy', ' BMI ' como 'bmi' y ''Measles ' como 'measles'. No olvides de usar `inplace` para modificar el DataFrame original. Luego chequea que el cambio se haya hecho correctamente."
      ]
    },
    {
      "cell_type": "code",
      "metadata": {
        "id": "TL4b2ueXSckm"
      },
      "source": [
        "# Renombro columnas del DataFrame\n",
        "expvida.rename(columns={'Life expectancy ': 'life_expectancy', ' BMI ': 'bmi', 'Measles ': 'measles'}, inplace=True)"
      ],
      "execution_count": 17,
      "outputs": []
    },
    {
      "cell_type": "code",
      "metadata": {
        "id": "r1RVoERMSckp",
        "colab": {
          "base_uri": "https://localhost:8080/"
        },
        "outputId": "5b68aeec-91c3-42fc-a446-5291eaebf880"
      },
      "source": [
        "# Chequeo que se hayan reemplazado correctamente\n",
        "expvida.columns"
      ],
      "execution_count": 18,
      "outputs": [
        {
          "output_type": "execute_result",
          "data": {
            "text/plain": [
              "Index(['Country', 'Year', 'Status', 'life_expectancy', 'Adult Mortality',\n",
              "       'infant deaths', 'Alcohol', 'percentage expenditure', 'Hepatitis B',\n",
              "       'measles', 'bmi', 'under-five deaths ', 'Polio', 'Total expenditure',\n",
              "       'Diphtheria ', ' HIV/AIDS', 'GDP', 'Population',\n",
              "       ' thinness  1-19 years', ' thinness 5-9 years',\n",
              "       'Income composition of resources', 'Schooling'],\n",
              "      dtype='object')"
            ]
          },
          "metadata": {},
          "execution_count": 18
        }
      ]
    },
    {
      "cell_type": "markdown",
      "metadata": {
        "id": "cNXpOsdiScks"
      },
      "source": [
        "12) ¿Cual es el promedio de expectativa de vida (Life expectancy) en general?"
      ]
    },
    {
      "cell_type": "code",
      "metadata": {
        "id": "OYv3yiXmSckt",
        "colab": {
          "base_uri": "https://localhost:8080/"
        },
        "outputId": "c173d0aa-9163-4508-c628-8e90f8faad8f"
      },
      "source": [
        "# Obtengo el promedio de la columna\n",
        "promedio_general=expvida['life_expectancy'].mean()\n",
        "print(f'El promedio de expectativa de vida es {promedio_general:.2f}')"
      ],
      "execution_count": 19,
      "outputs": [
        {
          "output_type": "stream",
          "name": "stdout",
          "text": [
            "El promedio de expectativa de vida es 69.22\n"
          ]
        }
      ]
    },
    {
      "cell_type": "markdown",
      "metadata": {
        "id": "A-bzQhFqSckw"
      },
      "source": [
        "13) ¿Cual es el promedio de expectativa de vida (Life expectancy) por país?"
      ]
    },
    {
      "cell_type": "code",
      "metadata": {
        "id": "eWN_AJPMSckx",
        "colab": {
          "base_uri": "https://localhost:8080/"
        },
        "outputId": "826336a1-b6b8-4ec3-8527-062fc5ebf321"
      },
      "source": [
        "# Obtengo el promedio por pais\n",
        "promedio_pais=expvida.groupby('Country')['life_expectancy'].mean().round(2)\n",
        "print('El promedio de expectativa de vida por pais es')\n",
        "print(promedio_pais)\n"
      ],
      "execution_count": 20,
      "outputs": [
        {
          "output_type": "stream",
          "name": "stdout",
          "text": [
            "El promedio de expectativa de vida por pais es\n",
            "Country\n",
            "Afghanistan                           58.19\n",
            "Albania                               75.16\n",
            "Algeria                               73.62\n",
            "Angola                                49.02\n",
            "Antigua and Barbuda                   75.06\n",
            "                                      ...  \n",
            "Venezuela (Bolivarian Republic of)    73.39\n",
            "Viet Nam                              74.78\n",
            "Yemen                                 63.86\n",
            "Zambia                                53.91\n",
            "Zimbabwe                              50.49\n",
            "Name: life_expectancy, Length: 193, dtype: float64\n"
          ]
        }
      ]
    },
    {
      "cell_type": "markdown",
      "metadata": {
        "id": "YIopZIPrSck0"
      },
      "source": [
        "14) ¿Cual es la expectativa de vida mas alta y mas baja? Usa la funcion de pandas y la funcion de NumPy y compara el resultado. ¿Que paises tienen esas expectativas de vida?"
      ]
    },
    {
      "cell_type": "code",
      "metadata": {
        "id": "gU8js5J8Sck0",
        "colab": {
          "base_uri": "https://localhost:8080/"
        },
        "outputId": "23d00816-9f99-4f60-d1f7-a68d5c7a120d"
      },
      "source": [
        "# Maxima expectativa de vida usando numpy\n",
        "max_expect_np=np.max(expvida['life_expectancy'])\n",
        "print('La máxima expectativa de vida es', max_expect_np)"
      ],
      "execution_count": 22,
      "outputs": [
        {
          "output_type": "stream",
          "name": "stdout",
          "text": [
            "La máxima expectativa de vida es 89.0\n"
          ]
        }
      ]
    },
    {
      "cell_type": "code",
      "metadata": {
        "id": "_JyNdRuESck2",
        "colab": {
          "base_uri": "https://localhost:8080/"
        },
        "outputId": "a5819a8c-a75c-454b-e8a8-a5e28359c315"
      },
      "source": [
        "# Maxima expectativa de vida usando pandas\n",
        "max_expect=expvida['life_expectancy'].max()\n",
        "print('La máxima expectativa de vida es', max_expect)"
      ],
      "execution_count": 29,
      "outputs": [
        {
          "output_type": "stream",
          "name": "stdout",
          "text": [
            "La máxima expectativa de vida es 89.0\n"
          ]
        }
      ]
    },
    {
      "cell_type": "code",
      "metadata": {
        "id": "pTCZ9VJXSck4",
        "colab": {
          "base_uri": "https://localhost:8080/"
        },
        "outputId": "cd4db804-2262-413c-de52-1f79367d25b2"
      },
      "source": [
        "# Minima expectativa de vida usando numpy\n",
        "min_expect_np=np.min(expvida['life_expectancy'])\n",
        "print('La mínima expectativa de vida es', min_expect_np)\n"
      ],
      "execution_count": 23,
      "outputs": [
        {
          "output_type": "stream",
          "name": "stdout",
          "text": [
            "La mínima expectativa de vida es 36.3\n"
          ]
        }
      ]
    },
    {
      "cell_type": "code",
      "metadata": {
        "id": "BbJ9nW_LSck6",
        "colab": {
          "base_uri": "https://localhost:8080/"
        },
        "outputId": "e79877f7-9d34-44f1-97dc-5086ef9b52e4"
      },
      "source": [
        "# Minima expectativa de vida usando pandas\n",
        "min_expect=expvida['life_expectancy'].min()\n",
        "print('La mínima expectativa de vida es', min_expect)\n"
      ],
      "execution_count": 27,
      "outputs": [
        {
          "output_type": "stream",
          "name": "stdout",
          "text": [
            "La mínima expectativa de vida es 36.3\n"
          ]
        }
      ]
    },
    {
      "cell_type": "code",
      "metadata": {
        "id": "R83PS8f8Sck8",
        "colab": {
          "base_uri": "https://localhost:8080/"
        },
        "outputId": "84e459e8-a1b5-4085-f437-19ae50c58746"
      },
      "source": [
        "# Muestro los resultados maximos\n",
        "max_fila = expvida.loc[expvida['Country'].idxmax()]\n",
        "print(f'La fila con el valor máximo para cada categoría es')\n",
        "print(max_fila)\n"
      ],
      "execution_count": 25,
      "outputs": [
        {
          "output_type": "stream",
          "name": "stdout",
          "text": [
            "La fila con el valor máximo para cada categoría es\n",
            "Country                              Zimbabwe\n",
            "Year                                     2015\n",
            "Status                             Developing\n",
            "life_expectancy                          67.0\n",
            "Adult Mortality                         336.0\n",
            "infant deaths                              22\n",
            "Alcohol                                   NaN\n",
            "percentage expenditure                    0.0\n",
            "Hepatitis B                              87.0\n",
            "measles                                     0\n",
            "bmi                                      31.8\n",
            "under-five deaths                          32\n",
            "Polio                                    88.0\n",
            "Total expenditure                         NaN\n",
            "Diphtheria                               87.0\n",
            " HIV/AIDS                                 6.2\n",
            "GDP                                 118.69383\n",
            "Population                         15777451.0\n",
            " thinness  1-19 years                     5.6\n",
            " thinness 5-9 years                       5.5\n",
            "Income composition of resources         0.507\n",
            "Schooling                                10.3\n",
            "Name: 2922, dtype: object\n"
          ]
        }
      ]
    },
    {
      "cell_type": "code",
      "metadata": {
        "id": "jUZlYu3BSck_",
        "colab": {
          "base_uri": "https://localhost:8080/"
        },
        "outputId": "6fd094ec-5d07-43e5-8a24-1f2da7fca4b5"
      },
      "source": [
        "# Muestro los resultados minimos\n",
        "min_fila = expvida.loc[expvida['Country'].idxmin()]\n",
        "print(f'La fila con el valor mínimo para cada categoría es')\n",
        "print(min_fila)\n"
      ],
      "execution_count": null,
      "outputs": [
        {
          "output_type": "stream",
          "name": "stdout",
          "text": [
            "La fila con el valor mínimo para cada categoría es\n",
            "Country                            Afghanistan\n",
            "Year                                      2015\n",
            "Status                              Developing\n",
            "life_expectancy                           65.0\n",
            "Adult Mortality                          263.0\n",
            "infant deaths                               62\n",
            "Alcohol                                   0.01\n",
            "percentage expenditure               71.279624\n",
            "Hepatitis B                               65.0\n",
            "measles                                   1154\n",
            "bmi                                       19.1\n",
            "under-five deaths                           83\n",
            "Polio                                      6.0\n",
            "Total expenditure                         8.16\n",
            "Diphtheria                                65.0\n",
            " HIV/AIDS                                  0.1\n",
            "GDP                                  584.25921\n",
            "Population                          33736494.0\n",
            " thinness  1-19 years                     17.2\n",
            " thinness 5-9 years                       17.3\n",
            "Income composition of resources          0.479\n",
            "Schooling                                 10.1\n",
            "Name: 0, dtype: object\n"
          ]
        }
      ]
    },
    {
      "cell_type": "code",
      "metadata": {
        "id": "et_RZ44GSclB",
        "colab": {
          "base_uri": "https://localhost:8080/"
        },
        "outputId": "4e298534-e97a-45e0-8f26-d01887f47c9a"
      },
      "source": [
        "# Filtro las columnas para mostrar solo las filas que tengan valor\n",
        "# igual al maximo\n",
        "filas_max_1 = expvida[expvida[\"life_expectancy\"] == max_expect]\n",
        "# filtro para que aparezcan una sola vez los nombre de esos paises\n",
        "filas_max = filas_max_1['Country'].unique()\n",
        "print(f'Los países que tienen la mayor expectativa de vida son {\", \".join(filas_max)}')\n"
      ],
      "execution_count": 32,
      "outputs": [
        {
          "output_type": "stream",
          "name": "stdout",
          "text": [
            "Los países que tienen la mayor expectativa de vida son Belgium, Finland, France, Germany, Italy, New Zealand, Norway, Portugal, Spain, Sweden\n"
          ]
        }
      ]
    },
    {
      "cell_type": "code",
      "metadata": {
        "id": "IQnm1-44SclE",
        "colab": {
          "base_uri": "https://localhost:8080/"
        },
        "outputId": "ab91f9c6-99bb-4b7c-eba3-770ba595307b"
      },
      "source": [
        "# Filtro las columnas para mostrar solo las filas que tengan valor\n",
        "# igual al minimo\n",
        "filas_min_1 = expvida[expvida[\"life_expectancy\"] == min_expect]\n",
        "# filtro para que aparezcan una sola vez los nombre de esos paises\n",
        "filas_min = filas_min_1['Country'].unique()\n",
        "print(f'El países que tiene la menor expectativa de vida es {\", \".join(filas_min)}')"
      ],
      "execution_count": 35,
      "outputs": [
        {
          "output_type": "stream",
          "name": "stdout",
          "text": [
            "El países que tiene la menor expectativa de vida es Haiti\n"
          ]
        }
      ]
    },
    {
      "cell_type": "markdown",
      "metadata": {
        "id": "mk_q0UUdSclq"
      },
      "source": [
        "15) ¿Cuantas categorias encontramos en la columna \"Status\"? _**Pista**_: Lee acerca de la función [unique()](http://pandas.pydata.org/pandas-docs/stable/reference/api/pandas.Series.unique.html?highlight=unique#pandas.Series.unique)"
      ]
    },
    {
      "cell_type": "code",
      "metadata": {
        "id": "HA2tDgWVSclq",
        "colab": {
          "base_uri": "https://localhost:8080/"
        },
        "outputId": "ae496148-3bc4-4655-b8a6-5c89cef22160"
      },
      "source": [
        "# Obtengo los valores unicos de la columna status\n",
        "valores_unicos=expvida['Status'].unique()\n",
        "print('Los valores únicos son:',valores_unicos)\n"
      ],
      "execution_count": 37,
      "outputs": [
        {
          "output_type": "stream",
          "name": "stdout",
          "text": [
            "Los valores únicos son: ['Developing' 'Developed']\n"
          ]
        }
      ]
    },
    {
      "cell_type": "markdown",
      "source": [],
      "metadata": {
        "id": "WiIxLWFOIVWS"
      }
    },
    {
      "cell_type": "markdown",
      "metadata": {
        "id": "ps0WfRElSclu"
      },
      "source": [
        "16) ¿Cuantos paises se ubican en cada una de esas categorias de \"Status\"? _**Pista**_: Lee acerca de la función [value_counts()](http://pandas.pydata.org/pandas-docs/stable/reference/api/pandas.Series.value_counts.html)"
      ]
    },
    {
      "cell_type": "code",
      "metadata": {
        "id": "a8zkd7TTSclw",
        "colab": {
          "base_uri": "https://localhost:8080/",
          "height": 490
        },
        "outputId": "724f8f7a-fbb1-4623-829c-9f5c17621512"
      },
      "source": [
        "# Cuento cuantos valores hay de cada categoria\n",
        "expvida.groupby('Status')['Country'].value_counts()"
      ],
      "execution_count": null,
      "outputs": [
        {
          "output_type": "execute_result",
          "data": {
            "text/plain": [
              "Status      Country              \n",
              "Developed   Australia                16\n",
              "            Austria                  16\n",
              "            Belgium                  16\n",
              "            Bulgaria                 16\n",
              "            Croatia                  16\n",
              "                                     ..\n",
              "Developing  Niue                      1\n",
              "            Palau                     1\n",
              "            Saint Kitts and Nevis     1\n",
              "            San Marino                1\n",
              "            Tuvalu                    1\n",
              "Name: count, Length: 193, dtype: int64"
            ],
            "text/html": [
              "<div>\n",
              "<style scoped>\n",
              "    .dataframe tbody tr th:only-of-type {\n",
              "        vertical-align: middle;\n",
              "    }\n",
              "\n",
              "    .dataframe tbody tr th {\n",
              "        vertical-align: top;\n",
              "    }\n",
              "\n",
              "    .dataframe thead th {\n",
              "        text-align: right;\n",
              "    }\n",
              "</style>\n",
              "<table border=\"1\" class=\"dataframe\">\n",
              "  <thead>\n",
              "    <tr style=\"text-align: right;\">\n",
              "      <th></th>\n",
              "      <th></th>\n",
              "      <th>count</th>\n",
              "    </tr>\n",
              "    <tr>\n",
              "      <th>Status</th>\n",
              "      <th>Country</th>\n",
              "      <th></th>\n",
              "    </tr>\n",
              "  </thead>\n",
              "  <tbody>\n",
              "    <tr>\n",
              "      <th rowspan=\"5\" valign=\"top\">Developed</th>\n",
              "      <th>Australia</th>\n",
              "      <td>16</td>\n",
              "    </tr>\n",
              "    <tr>\n",
              "      <th>Austria</th>\n",
              "      <td>16</td>\n",
              "    </tr>\n",
              "    <tr>\n",
              "      <th>Belgium</th>\n",
              "      <td>16</td>\n",
              "    </tr>\n",
              "    <tr>\n",
              "      <th>Bulgaria</th>\n",
              "      <td>16</td>\n",
              "    </tr>\n",
              "    <tr>\n",
              "      <th>Croatia</th>\n",
              "      <td>16</td>\n",
              "    </tr>\n",
              "    <tr>\n",
              "      <th>...</th>\n",
              "      <th>...</th>\n",
              "      <td>...</td>\n",
              "    </tr>\n",
              "    <tr>\n",
              "      <th rowspan=\"5\" valign=\"top\">Developing</th>\n",
              "      <th>Niue</th>\n",
              "      <td>1</td>\n",
              "    </tr>\n",
              "    <tr>\n",
              "      <th>Palau</th>\n",
              "      <td>1</td>\n",
              "    </tr>\n",
              "    <tr>\n",
              "      <th>Saint Kitts and Nevis</th>\n",
              "      <td>1</td>\n",
              "    </tr>\n",
              "    <tr>\n",
              "      <th>San Marino</th>\n",
              "      <td>1</td>\n",
              "    </tr>\n",
              "    <tr>\n",
              "      <th>Tuvalu</th>\n",
              "      <td>1</td>\n",
              "    </tr>\n",
              "  </tbody>\n",
              "</table>\n",
              "<p>193 rows × 1 columns</p>\n",
              "</div><br><label><b>dtype:</b> int64</label>"
            ]
          },
          "metadata": {},
          "execution_count": 39
        }
      ]
    },
    {
      "cell_type": "markdown",
      "metadata": {
        "id": "IFvTsLnQSclz"
      },
      "source": [
        "18) ¿Cuantos paises presentaron algun caso de Sarampion (**Measles**) en el 2015? **_Pista_**: Lee acerca de la función [.count()](http://pandas.pydata.org/pandas-docs/stable/reference/api/pandas.DataFrame.count.html?highlight=count#pandas.DataFrame.count)"
      ]
    },
    {
      "cell_type": "code",
      "metadata": {
        "id": "qOyyukGmSclz",
        "colab": {
          "base_uri": "https://localhost:8080/"
        },
        "outputId": "f73232f8-cc25-41ef-e843-f82f93b2e0be"
      },
      "source": [
        "# Cuento cuantas filas tienen valores distintos de cero\n",
        "sarampion=expvida[(expvida['Year'] == 2015) & (expvida['measles'] != 0)]['Country'].count()\n",
        "print('En 2015', sarampion, 'países presentaron algún caso de sarampión')\n",
        "\n"
      ],
      "execution_count": 40,
      "outputs": [
        {
          "output_type": "stream",
          "name": "stdout",
          "text": [
            "En 2015 121 países presentaron algún caso de sarampión\n"
          ]
        }
      ]
    },
    {
      "cell_type": "code",
      "metadata": {
        "id": "aFaOi_mmScl2"
      },
      "source": [],
      "execution_count": null,
      "outputs": []
    }
  ]
}